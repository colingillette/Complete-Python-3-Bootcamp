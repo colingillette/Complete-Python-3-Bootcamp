{
 "cells": [
  {
   "cell_type": "code",
   "execution_count": 1,
   "id": "3b88e235",
   "metadata": {},
   "outputs": [
    {
     "name": "stdout",
     "output_type": "stream",
     "text": [
      "Help on built-in function insert:\n",
      "\n",
      "insert(index, object, /) method of builtins.list instance\n",
      "    Insert object before index.\n",
      "\n"
     ]
    }
   ],
   "source": [
    "# create an object and hit tab after .\n",
    "# shift tab for doc\n",
    "mylist = []\n",
    "help(mylist.insert)"
   ]
  },
  {
   "cell_type": "code",
   "execution_count": 2,
   "id": "d31771c3",
   "metadata": {},
   "outputs": [
    {
     "name": "stdout",
     "output_type": "stream",
     "text": [
      "Test\n"
     ]
    }
   ],
   "source": [
    "def name_of_function():\n",
    "    '''\n",
    "    Multi-line comment Docstring to explain the function.\n",
    "    '''\n",
    "    print(\"Test\")\n",
    "    \n",
    "name_of_function()"
   ]
  },
  {
   "cell_type": "code",
   "execution_count": 3,
   "id": "d128cd04",
   "metadata": {},
   "outputs": [],
   "source": [
    "def name_of_function(name):\n",
    "    print(name)"
   ]
  },
  {
   "cell_type": "code",
   "execution_count": 4,
   "id": "8a24a125",
   "metadata": {},
   "outputs": [
    {
     "name": "stdout",
     "output_type": "stream",
     "text": [
      "Boo\n"
     ]
    }
   ],
   "source": [
    "name_of_function('Boo')"
   ]
  },
  {
   "cell_type": "code",
   "execution_count": 6,
   "id": "2e7ced5c",
   "metadata": {},
   "outputs": [
    {
     "data": {
      "text/plain": [
       "'Jose is a loser'"
      ]
     },
     "execution_count": 6,
     "metadata": {},
     "output_type": "execute_result"
    }
   ],
   "source": [
    "def use_return(name):\n",
    "    return name + ' is a loser'\n",
    "\n",
    "use_return('Jose')"
   ]
  },
  {
   "cell_type": "code",
   "execution_count": 7,
   "id": "15ae38bb",
   "metadata": {},
   "outputs": [
    {
     "data": {
      "text/plain": [
       "<function __main__.use_return(name)>"
      ]
     },
     "execution_count": 7,
     "metadata": {},
     "output_type": "execute_result"
    }
   ],
   "source": [
    "use_return"
   ]
  },
  {
   "cell_type": "code",
   "execution_count": 8,
   "id": "eb374a52",
   "metadata": {},
   "outputs": [
    {
     "name": "stdout",
     "output_type": "stream",
     "text": [
      "Hello Default\n"
     ]
    }
   ],
   "source": [
    "def use_return(name='Default'):\n",
    "    print(f'Hello {name}')\n",
    "          \n",
    "use_return()"
   ]
  },
  {
   "cell_type": "code",
   "execution_count": 9,
   "id": "d73c924b",
   "metadata": {},
   "outputs": [
    {
     "name": "stdout",
     "output_type": "stream",
     "text": [
      "5\n",
      "23\n"
     ]
    }
   ],
   "source": [
    "def sum_values(v1, v2):\n",
    "    return v1+v2\n",
    "\n",
    "print(sum_values(2,3))\n",
    "print(sum_values('2','3'))"
   ]
  },
  {
   "cell_type": "code",
   "execution_count": null,
   "id": "7127ff85",
   "metadata": {},
   "outputs": [],
   "source": []
  }
 ],
 "metadata": {
  "kernelspec": {
   "display_name": "Python 3",
   "language": "python",
   "name": "python3"
  },
  "language_info": {
   "codemirror_mode": {
    "name": "ipython",
    "version": 3
   },
   "file_extension": ".py",
   "mimetype": "text/x-python",
   "name": "python",
   "nbconvert_exporter": "python",
   "pygments_lexer": "ipython3",
   "version": "3.8.8"
  }
 },
 "nbformat": 4,
 "nbformat_minor": 5
}
